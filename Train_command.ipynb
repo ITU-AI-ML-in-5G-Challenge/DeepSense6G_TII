{
 "cells": [
  {
   "cell_type": "code",
   "execution_count": 69,
   "metadata": {
    "scrolled": true
   },
   "outputs": [
    {
     "name": "stdout",
     "output_type": "stream",
     "text": [
      "Traceback (most recent call last):\r\n",
      "  File \"train2_seq.py\", line 53, in <module>\r\n",
      "    writer = SummaryWriter(log_dir=args.logdir)\r\n",
      "  File \"/home/tiany0c/anaconda3/envs/transfuser/lib/python3.7/site-packages/torch/utils/tensorboard/writer.py\", line 246, in __init__\r\n",
      "    self._get_file_writer()\r\n",
      "  File \"/home/tiany0c/anaconda3/envs/transfuser/lib/python3.7/site-packages/torch/utils/tensorboard/writer.py\", line 277, in _get_file_writer\r\n",
      "    self.log_dir, self.max_queue, self.flush_secs, self.filename_suffix\r\n",
      "  File \"/home/tiany0c/anaconda3/envs/transfuser/lib/python3.7/site-packages/torch/utils/tensorboard/writer.py\", line 76, in __init__\r\n",
      "    log_dir, max_queue, flush_secs, filename_suffix\r\n",
      "  File \"/home/tiany0c/anaconda3/envs/transfuser/lib/python3.7/site-packages/tensorboard/summary/writer/event_file_writer.py\", line 74, in __init__\r\n",
      "    tf.io.gfile.makedirs(logdir)\r\n",
      "  File \"/home/tiany0c/anaconda3/envs/transfuser/lib/python3.7/site-packages/tensorboard/compat/tensorflow_stub/io/gfile.py\", line 641, in makedirs\r\n",
      "    return get_filesystem(path).makedirs(path)\r\n",
      "  File \"/home/tiany0c/anaconda3/envs/transfuser/lib/python3.7/site-packages/tensorboard/compat/tensorflow_stub/io/gfile.py\", line 191, in makedirs\r\n",
      "    os.makedirs(path)\r\n",
      "  File \"/home/tiany0c/anaconda3/envs/transfuser/lib/python3.7/os.py\", line 213, in makedirs\r\n",
      "    makedirs(head, exist_ok=exist_ok)\r\n",
      "  File \"/home/tiany0c/anaconda3/envs/transfuser/lib/python3.7/os.py\", line 213, in makedirs\r\n",
      "    makedirs(head, exist_ok=exist_ok)\r\n",
      "  File \"/home/tiany0c/anaconda3/envs/transfuser/lib/python3.7/os.py\", line 213, in makedirs\r\n",
      "    makedirs(head, exist_ok=exist_ok)\r\n",
      "  [Previous line repeated 1 more time]\r\n",
      "  File \"/home/tiany0c/anaconda3/envs/transfuser/lib/python3.7/os.py\", line 223, in makedirs\r\n",
      "    mkdir(name, mode)\r\n",
      "PermissionError: [Errno 13] Permission denied: '/ibex'\r\n"
     ]
    }
   ],
   "source": [
    "!python3 train2_seq.py --loss focal --scheduler 1 --add_velocity 1 --add_mask 1 --enhanced 0  --temp_coef 1 --load_previous_best 0 --id transfuser_vel_mask_scheduler_test  --batch_size 1 --train_adapt_together 0 --finetune 0"
   ]
  },
  {
   "cell_type": "code",
   "execution_count": 74,
   "metadata": {},
   "outputs": [
    {
     "name": "stdout",
     "output_type": "stream",
     "text": [
      "{'camera': -1, 'lidar': -1}\n",
      "{'camera': -1, 'lidar': 0}\n",
      "{'camera': -1, 'lidar': 1}\n",
      "{'camera': -1, 'lidar': 2}\n",
      "{'camera': 0, 'lidar': -1}\n",
      "{'camera': 0, 'lidar': 0}\n",
      "{'camera': 0, 'lidar': 1}\n",
      "{'camera': 0, 'lidar': 2}\n",
      "{'camera': 1, 'lidar': -1}\n",
      "{'camera': 1, 'lidar': 0}\n",
      "{'camera': 1, 'lidar': 1}\n",
      "{'camera': 1, 'lidar': 2}\n",
      "{'camera': 2, 'lidar': -1}\n",
      "{'camera': 2, 'lidar': 0}\n",
      "{'camera': 2, 'lidar': 1}\n",
      "{'camera': 2, 'lidar': 2}\n",
      "{'camera': 3, 'lidar': -1}\n",
      "{'camera': 3, 'lidar': 0}\n",
      "{'camera': 3, 'lidar': 1}\n",
      "{'camera': 3, 'lidar': 2}\n",
      "{'camera': 4, 'lidar': -1}\n",
      "{'camera': 4, 'lidar': 0}\n",
      "{'camera': 4, 'lidar': 1}\n",
      "{'camera': 4, 'lidar': 2}\n",
      "{'camera': 5, 'lidar': -1}\n",
      "{'camera': 5, 'lidar': 0}\n",
      "{'camera': 5, 'lidar': 1}\n",
      "{'camera': 5, 'lidar': 2}\n",
      "{'camera': 6, 'lidar': -1}\n",
      "{'camera': 6, 'lidar': 0}\n",
      "{'camera': 6, 'lidar': 1}\n",
      "{'camera': 6, 'lidar': 2}\n",
      "{'camera': 7, 'lidar': -1}\n",
      "{'camera': 7, 'lidar': 0}\n",
      "{'camera': 7, 'lidar': 1}\n",
      "{'camera': 7, 'lidar': 2}\n",
      "[None, None, None, None, None, None, None, None, None, None, None, None, None, None, None, None, None, None, None, None, None, None, None, None, None, None, None, None, None, None, None, None, None, None, None, None]\n"
     ]
    }
   ],
   "source": [
    "aug=[]\n",
    "for i in range(-1,8):\n",
    "    for j in range(-1,3):\n",
    "        dict1 = {}\n",
    "        aug.append(dict1.update({'camera':i, 'lidar':j}))\n",
    "        print(dict1)\n",
    "        \n",
    "print(aug)"
   ]
  },
  {
   "cell_type": "code",
   "execution_count": null,
   "metadata": {},
   "outputs": [],
   "source": []
  }
 ],
 "metadata": {
  "kernelspec": {
   "display_name": "Python 3",
   "language": "python",
   "name": "python3"
  },
  "language_info": {
   "codemirror_mode": {
    "name": "ipython",
    "version": 3
   },
   "file_extension": ".py",
   "mimetype": "text/x-python",
   "name": "python",
   "nbconvert_exporter": "python",
   "pygments_lexer": "ipython3",
   "version": "3.7.13"
  },
  "vscode": {
   "interpreter": {
    "hash": "916dbcbb3f70747c44a77c7bcd40155683ae19c65e1c03b4aa3499c5328201f1"
   }
  }
 },
 "nbformat": 4,
 "nbformat_minor": 4
}
