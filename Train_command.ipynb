{
 "cells": [
  {
   "cell_type": "code",
   "execution_count": 65,
   "metadata": {
    "scrolled": true
   },
   "outputs": [
    {
     "name": "stdout",
     "output_type": "stream",
     "text": [
      "11143 100 625\n",
      "Total trainable parameters:  77525314\n",
      "Loading checkpoint from log/transfuser_segmentation_overfitting\n",
      "100%|███████████████████████████████████████████| 16/16 [00:11<00:00,  1.38it/s]\n",
      "100%|█████████████████████████████████████████████| 3/3 [00:03<00:00,  1.29s/it]\n",
      "31: [24. 36. 40.] 0.49066666666666664\n",
      "32: [ 96. 100. 100.] 0.9866666666666667\n",
      "33: [100. 100. 100.] 1.0\n",
      "Epoch 161, Batch 002: Wp: 0.005\n",
      "Val [61. 68. 70.] 61.0 0.742\n",
      "epoch: 161\n",
      "description:   0%|                                      | 0/279 [00:00<?, ?it/s]^C\n",
      "Traceback (most recent call last):\n",
      "  File \"train2.py\", line 457, in <module>\n",
      "    trainer.train()\n",
      "  File \"train2.py\", line 88, in train\n",
      "    for data in pbar:\n",
      "  File \"/home/tiany0c/anaconda3/envs/transfuser/lib/python3.7/site-packages/tqdm/std.py\", line 1108, in __iter__\n",
      "    for obj in iterable:\n",
      "  File \"/home/tiany0c/anaconda3/envs/transfuser/lib/python3.7/site-packages/torch/utils/data/dataloader.py\", line 681, in __next__\n",
      "    data = self._next_data()\n",
      "  File \"/home/tiany0c/anaconda3/envs/transfuser/lib/python3.7/site-packages/torch/utils/data/dataloader.py\", line 1359, in _next_data\n",
      "    idx, data = self._get_data()\n",
      "  File \"/home/tiany0c/anaconda3/envs/transfuser/lib/python3.7/site-packages/torch/utils/data/dataloader.py\", line 1315, in _get_data\n",
      "    success, data = self._try_get_data()\n",
      "  File \"/home/tiany0c/anaconda3/envs/transfuser/lib/python3.7/site-packages/torch/utils/data/dataloader.py\", line 1163, in _try_get_data\n",
      "    data = self._data_queue.get(timeout=timeout)\n",
      "  File \"/home/tiany0c/anaconda3/envs/transfuser/lib/python3.7/queue.py\", line 179, in get\n",
      "    self.not_empty.wait(remaining)\n",
      "  File \"/home/tiany0c/anaconda3/envs/transfuser/lib/python3.7/threading.py\", line 300, in wait\n",
      "    gotit = waiter.acquire(True, timeout)\n",
      "KeyboardInterrupt\n",
      "description:   0%|                                      | 0/279 [00:01<?, ?it/s]\n"
     ]
    }
   ],
   "source": [
    "!python3 train2.py --loss focal --scheduler 1 --add_velocity 1 --add_mask 1 --enhanced 0  --temp_coef 1 \\\n",
    "--load_previous_best 0 --id transfuser_segmentation_overfitting  --batch_size 40"
   ]
  },
  {
   "cell_type": "code",
   "execution_count": null,
   "metadata": {},
   "outputs": [],
   "source": []
  },
  {
   "cell_type": "code",
   "execution_count": null,
   "metadata": {},
   "outputs": [],
   "source": []
  },
  {
   "cell_type": "code",
   "execution_count": null,
   "metadata": {},
   "outputs": [],
   "source": []
  }
 ],
 "metadata": {
  "kernelspec": {
   "display_name": "Python 3",
   "language": "python",
   "name": "python3"
  },
  "language_info": {
   "codemirror_mode": {
    "name": "ipython",
    "version": 3
   },
   "file_extension": ".py",
   "mimetype": "text/x-python",
   "name": "python",
   "nbconvert_exporter": "python",
   "pygments_lexer": "ipython3",
   "version": "3.7.13"
  },
  "vscode": {
   "interpreter": {
    "hash": "916dbcbb3f70747c44a77c7bcd40155683ae19c65e1c03b4aa3499c5328201f1"
   }
  }
 },
 "nbformat": 4,
 "nbformat_minor": 4
}
